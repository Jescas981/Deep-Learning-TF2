{
  "nbformat": 4,
  "nbformat_minor": 0,
  "metadata": {
    "colab": {
      "provenance": [],
      "toc_visible": true,
      "authorship_tag": "ABX9TyOCC9rCXmXsCgOXipi1ZW01",
      "include_colab_link": true
    },
    "kernelspec": {
      "name": "python3",
      "display_name": "Python 3"
    },
    "language_info": {
      "name": "python"
    }
  },
  "cells": [
    {
      "cell_type": "markdown",
      "metadata": {
        "id": "view-in-github",
        "colab_type": "text"
      },
      "source": [
        "<a href=\"https://colab.research.google.com/github/Jescas981/Deep-Learning-TF2/blob/main/00_MachineLearning_and_Neurons.ipynb\" target=\"_parent\"><img src=\"https://colab.research.google.com/assets/colab-badge.svg\" alt=\"Open In Colab\"/></a>"
      ]
    },
    {
      "cell_type": "markdown",
      "source": [
        "# What's Machine Learning?\n",
        "People might look Machine Learning as something **magical, complex, fancy** and futuristic. It is almost all of them, but it's not **magical** at all. It requires a background math and spatial reasoning to understand how a model works\n",
        "\n",
        "Common Answer: Machine Learning can be expressed as automating and improving the learning process of computers based on their experience without any human assitance.\n",
        "\n",
        "Dumb Answer (But it's definition is more exact): The answer above doesn't tell us how Machine Learning works, it just say common stuffs that we can search on internet. Machine Learning involves spacial reasoning because it is just be a  a geometrical problem."
      ],
      "metadata": {
        "id": "DYxidvbb2yqe"
      }
    },
    {
      "cell_type": "markdown",
      "source": [
        "## 1. Linear Regression Problem"
      ],
      "metadata": {
        "id": "2Npy3c9BKPhy"
      }
    },
    {
      "cell_type": "markdown",
      "source": [
        "### 1.1 Linear Regression\n",
        "Let's think that we want to know how a salary is related to years of experience, we can use a line to fit the data.\n",
        "\n",
        "\\begin{align}\n",
        "y = wx + b\n",
        "\\end{align}\n",
        "\n",
        "Where:\n",
        "+ $y$ : Target\n",
        "+ $w$: Weight (Slope)\n",
        "+ $b$: Bias\n",
        "\n",
        "To fit the data we need to calculate the parameters $w$ and $b$ to modify our model predictions."
      ],
      "metadata": {
        "id": "RfTvPEKi3DbP"
      }
    },
    {
      "cell_type": "markdown",
      "source": [
        "**How we can do this in the real world?**\n",
        "We need to follow these steps:\n",
        "+ Collect bunch of data $(x_1,y_1)...(x_n,y_n)$\n",
        "+ Draw all points as dots in their corresponding coordinates\n",
        "+ Draw a line through the dots\n",
        "\n",
        "The last step defines what Machine Learning does, we create a model that fits data using a geometrical approach.\n",
        "\n",
        "**Note**: This data is not real, is only for learning purposes"
      ],
      "metadata": {
        "id": "Zk74kTWm_rr3"
      }
    },
    {
      "cell_type": "code",
      "source": [
        "# Import libraries\n",
        "import numpy as np\n",
        "import matplotlib.pyplot as plt\n",
        "import pandas as pd"
      ],
      "metadata": {
        "id": "uPUU50pb6QKX"
      },
      "execution_count": null,
      "outputs": []
    },
    {
      "cell_type": "code",
      "source": [
        "# Paramaters\n",
        "weight = 1.5\n",
        "bias = 1.25\n",
        "\n",
        "# Fake linear data\n",
        "X = np.arange(start=0,\n",
        "              stop=20,\n",
        "              step=0.1)\n",
        "\n",
        "# Calculate predictions\n",
        "np.random.seed(43)\n",
        "y = weight * X + bias + np.random.random(len(X)) * 8 # Noise\n",
        "\n",
        "linear_df = pd.DataFrame({'Years': X,\n",
        "                          'Salary': y})\n",
        "linear_df.head(10)"
      ],
      "metadata": {
        "colab": {
          "base_uri": "https://localhost:8080/",
          "height": 363
        },
        "id": "DuBkbsP38FSy",
        "outputId": "85a9f1d0-1d87-4e7e-d372-93e3d05663d6"
      },
      "execution_count": null,
      "outputs": [
        {
          "output_type": "execute_result",
          "data": {
            "text/plain": [
              "   Years    Salary\n",
              "0    0.0  2.170437\n",
              "1    0.1  6.272532\n",
              "2    0.2  2.617128\n",
              "3    0.3  3.624717\n",
              "4    0.4  4.467112\n",
              "5    0.5  8.873100\n",
              "6    0.6  7.478722\n",
              "7    0.7  6.629298\n",
              "8    0.8  2.682111\n",
              "9    0.9  8.469986"
            ],
            "text/html": [
              "\n",
              "  <div id=\"df-c3e5a7e9-25c8-43e7-bfd7-df4f8383de58\">\n",
              "    <div class=\"colab-df-container\">\n",
              "      <div>\n",
              "<style scoped>\n",
              "    .dataframe tbody tr th:only-of-type {\n",
              "        vertical-align: middle;\n",
              "    }\n",
              "\n",
              "    .dataframe tbody tr th {\n",
              "        vertical-align: top;\n",
              "    }\n",
              "\n",
              "    .dataframe thead th {\n",
              "        text-align: right;\n",
              "    }\n",
              "</style>\n",
              "<table border=\"1\" class=\"dataframe\">\n",
              "  <thead>\n",
              "    <tr style=\"text-align: right;\">\n",
              "      <th></th>\n",
              "      <th>Years</th>\n",
              "      <th>Salary</th>\n",
              "    </tr>\n",
              "  </thead>\n",
              "  <tbody>\n",
              "    <tr>\n",
              "      <th>0</th>\n",
              "      <td>0.0</td>\n",
              "      <td>2.170437</td>\n",
              "    </tr>\n",
              "    <tr>\n",
              "      <th>1</th>\n",
              "      <td>0.1</td>\n",
              "      <td>6.272532</td>\n",
              "    </tr>\n",
              "    <tr>\n",
              "      <th>2</th>\n",
              "      <td>0.2</td>\n",
              "      <td>2.617128</td>\n",
              "    </tr>\n",
              "    <tr>\n",
              "      <th>3</th>\n",
              "      <td>0.3</td>\n",
              "      <td>3.624717</td>\n",
              "    </tr>\n",
              "    <tr>\n",
              "      <th>4</th>\n",
              "      <td>0.4</td>\n",
              "      <td>4.467112</td>\n",
              "    </tr>\n",
              "    <tr>\n",
              "      <th>5</th>\n",
              "      <td>0.5</td>\n",
              "      <td>8.873100</td>\n",
              "    </tr>\n",
              "    <tr>\n",
              "      <th>6</th>\n",
              "      <td>0.6</td>\n",
              "      <td>7.478722</td>\n",
              "    </tr>\n",
              "    <tr>\n",
              "      <th>7</th>\n",
              "      <td>0.7</td>\n",
              "      <td>6.629298</td>\n",
              "    </tr>\n",
              "    <tr>\n",
              "      <th>8</th>\n",
              "      <td>0.8</td>\n",
              "      <td>2.682111</td>\n",
              "    </tr>\n",
              "    <tr>\n",
              "      <th>9</th>\n",
              "      <td>0.9</td>\n",
              "      <td>8.469986</td>\n",
              "    </tr>\n",
              "  </tbody>\n",
              "</table>\n",
              "</div>\n",
              "      <button class=\"colab-df-convert\" onclick=\"convertToInteractive('df-c3e5a7e9-25c8-43e7-bfd7-df4f8383de58')\"\n",
              "              title=\"Convert this dataframe to an interactive table.\"\n",
              "              style=\"display:none;\">\n",
              "        \n",
              "  <svg xmlns=\"http://www.w3.org/2000/svg\" height=\"24px\"viewBox=\"0 0 24 24\"\n",
              "       width=\"24px\">\n",
              "    <path d=\"M0 0h24v24H0V0z\" fill=\"none\"/>\n",
              "    <path d=\"M18.56 5.44l.94 2.06.94-2.06 2.06-.94-2.06-.94-.94-2.06-.94 2.06-2.06.94zm-11 1L8.5 8.5l.94-2.06 2.06-.94-2.06-.94L8.5 2.5l-.94 2.06-2.06.94zm10 10l.94 2.06.94-2.06 2.06-.94-2.06-.94-.94-2.06-.94 2.06-2.06.94z\"/><path d=\"M17.41 7.96l-1.37-1.37c-.4-.4-.92-.59-1.43-.59-.52 0-1.04.2-1.43.59L10.3 9.45l-7.72 7.72c-.78.78-.78 2.05 0 2.83L4 21.41c.39.39.9.59 1.41.59.51 0 1.02-.2 1.41-.59l7.78-7.78 2.81-2.81c.8-.78.8-2.07 0-2.86zM5.41 20L4 18.59l7.72-7.72 1.47 1.35L5.41 20z\"/>\n",
              "  </svg>\n",
              "      </button>\n",
              "      \n",
              "  <style>\n",
              "    .colab-df-container {\n",
              "      display:flex;\n",
              "      flex-wrap:wrap;\n",
              "      gap: 12px;\n",
              "    }\n",
              "\n",
              "    .colab-df-convert {\n",
              "      background-color: #E8F0FE;\n",
              "      border: none;\n",
              "      border-radius: 50%;\n",
              "      cursor: pointer;\n",
              "      display: none;\n",
              "      fill: #1967D2;\n",
              "      height: 32px;\n",
              "      padding: 0 0 0 0;\n",
              "      width: 32px;\n",
              "    }\n",
              "\n",
              "    .colab-df-convert:hover {\n",
              "      background-color: #E2EBFA;\n",
              "      box-shadow: 0px 1px 2px rgba(60, 64, 67, 0.3), 0px 1px 3px 1px rgba(60, 64, 67, 0.15);\n",
              "      fill: #174EA6;\n",
              "    }\n",
              "\n",
              "    [theme=dark] .colab-df-convert {\n",
              "      background-color: #3B4455;\n",
              "      fill: #D2E3FC;\n",
              "    }\n",
              "\n",
              "    [theme=dark] .colab-df-convert:hover {\n",
              "      background-color: #434B5C;\n",
              "      box-shadow: 0px 1px 3px 1px rgba(0, 0, 0, 0.15);\n",
              "      filter: drop-shadow(0px 1px 2px rgba(0, 0, 0, 0.3));\n",
              "      fill: #FFFFFF;\n",
              "    }\n",
              "  </style>\n",
              "\n",
              "      <script>\n",
              "        const buttonEl =\n",
              "          document.querySelector('#df-c3e5a7e9-25c8-43e7-bfd7-df4f8383de58 button.colab-df-convert');\n",
              "        buttonEl.style.display =\n",
              "          google.colab.kernel.accessAllowed ? 'block' : 'none';\n",
              "\n",
              "        async function convertToInteractive(key) {\n",
              "          const element = document.querySelector('#df-c3e5a7e9-25c8-43e7-bfd7-df4f8383de58');\n",
              "          const dataTable =\n",
              "            await google.colab.kernel.invokeFunction('convertToInteractive',\n",
              "                                                     [key], {});\n",
              "          if (!dataTable) return;\n",
              "\n",
              "          const docLinkHtml = 'Like what you see? Visit the ' +\n",
              "            '<a target=\"_blank\" href=https://colab.research.google.com/notebooks/data_table.ipynb>data table notebook</a>'\n",
              "            + ' to learn more about interactive tables.';\n",
              "          element.innerHTML = '';\n",
              "          dataTable['output_type'] = 'display_data';\n",
              "          await google.colab.output.renderOutput(dataTable, element);\n",
              "          const docLink = document.createElement('div');\n",
              "          docLink.innerHTML = docLinkHtml;\n",
              "          element.appendChild(docLink);\n",
              "        }\n",
              "      </script>\n",
              "    </div>\n",
              "  </div>\n",
              "  "
            ]
          },
          "metadata": {},
          "execution_count": 3
        }
      ]
    },
    {
      "cell_type": "code",
      "source": [
        "plt.scatter(X,y,s=8)\n",
        "plt.xlabel('Years of experience')\n",
        "plt.ylabel('Salary (K USD)')"
      ],
      "metadata": {
        "colab": {
          "base_uri": "https://localhost:8080/",
          "height": 297
        },
        "id": "S7yDItwh8Q0H",
        "outputId": "6e4874de-5a0e-45b9-a8db-5cd628a398e5"
      },
      "execution_count": null,
      "outputs": [
        {
          "output_type": "execute_result",
          "data": {
            "text/plain": [
              "Text(0, 0.5, 'Salary (K USD)')"
            ]
          },
          "metadata": {},
          "execution_count": 4
        },
        {
          "output_type": "display_data",
          "data": {
            "text/plain": [
              "<Figure size 432x288 with 1 Axes>"
            ],
            "image/png": "[encoded data removed]"
          },
          "metadata": {
            "needs_background": "light"
          }
        }
      ]
    },
    {
      "cell_type": "markdown",
      "source": [
        "### 1.2 Multiple Linear Regression\n",
        "It's similar to a  simple Linear Regression, except the it involves more input feaetures like:\n",
        "+ Years of experience\n",
        "+ Phd\n",
        "+ Bachelors\n",
        "+ Age\n",
        "+ School\n",
        "When we have more input features in our model, it could improve our model predictions. In this example the Phd, Bachelor, School can affect the Salary of a person.\n",
        "\n",
        "If we have more than two features we won't be able to visualize at all our model because we can't visualize up to the third dimension.\n",
        "\n",
        "**Note**: This data is not real, is only for learning purposes"
      ],
      "metadata": {
        "id": "LUkhici-8wXl"
      }
    },
    {
      "cell_type": "code",
      "source": [
        "# Paramaters\n",
        "weight1 = 1.5\n",
        "bias1 = 1.25\n",
        "\n",
        "weight2 = 0.3\n",
        "bias2 = 20\n",
        "\n",
        "# Fake linear data\n",
        "X1 = np.arange(start=0,\n",
        "              stop=20,\n",
        "              step=0.1) +  + np.random.random(200) * 8\n",
        "\n",
        "X2 = np.arange(start=20,\n",
        "              stop=60,\n",
        "              step=0.2) +  + np.random.random(200) * 10\n",
        "\n",
        "np.random.seed(43)\n",
        "\n",
        "# Calculate predictions\n",
        "y = (weight1 * X1 + bias1) +(weight2 * X2 + bias2)\n",
        "\n",
        "linear_df = pd.DataFrame({'Years': X1,\n",
        "                          'Age': X2,\n",
        "                          'Salary': y})\n",
        "linear_df.head(10)"
      ],
      "metadata": {
        "colab": {
          "base_uri": "https://localhost:8080/",
          "height": 363
        },
        "id": "AC936t5XCTIs",
        "outputId": "5ca5cfbd-6049-433a-e3f2-bd705b7ac279"
      },
      "execution_count": null,
      "outputs": [
        {
          "output_type": "execute_result",
          "data": {
            "text/plain": [
              "      Years        Age     Salary\n",
              "0  7.914428  21.640316  39.613736\n",
              "1  7.452617  28.626721  41.016941\n",
              "2  7.003886  28.181038  40.210140\n",
              "3  4.249542  26.228000  35.492713\n",
              "4  4.148932  29.928311  36.451892\n",
              "5  4.971622  30.157684  37.754739\n",
              "6  1.455218  29.722659  32.349624\n",
              "7  7.889897  23.005638  39.986537\n",
              "8  5.721178  24.887612  37.298050\n",
              "9  8.836367  26.689339  42.511352"
            ],
            "text/html": [
              "\n",
              "  <div id=\"df-8e887c06-fe54-41e5-8109-893b522678a2\">\n",
              "    <div class=\"colab-df-container\">\n",
              "      <div>\n",
              "<style scoped>\n",
              "    .dataframe tbody tr th:only-of-type {\n",
              "        vertical-align: middle;\n",
              "    }\n",
              "\n",
              "    .dataframe tbody tr th {\n",
              "        vertical-align: top;\n",
              "    }\n",
              "\n",
              "    .dataframe thead th {\n",
              "        text-align: right;\n",
              "    }\n",
              "</style>\n",
              "<table border=\"1\" class=\"dataframe\">\n",
              "  <thead>\n",
              "    <tr style=\"text-align: right;\">\n",
              "      <th></th>\n",
              "      <th>Years</th>\n",
              "      <th>Age</th>\n",
              "      <th>Salary</th>\n",
              "    </tr>\n",
              "  </thead>\n",
              "  <tbody>\n",
              "    <tr>\n",
              "      <th>0</th>\n",
              "      <td>7.914428</td>\n",
              "      <td>21.640316</td>\n",
              "      <td>39.613736</td>\n",
              "    </tr>\n",
              "    <tr>\n",
              "      <th>1</th>\n",
              "      <td>7.452617</td>\n",
              "      <td>28.626721</td>\n",
              "      <td>41.016941</td>\n",
              "    </tr>\n",
              "    <tr>\n",
              "      <th>2</th>\n",
              "      <td>7.003886</td>\n",
              "      <td>28.181038</td>\n",
              "      <td>40.210140</td>\n",
              "    </tr>\n",
              "    <tr>\n",
              "      <th>3</th>\n",
              "      <td>4.249542</td>\n",
              "      <td>26.228000</td>\n",
              "      <td>35.492713</td>\n",
              "    </tr>\n",
              "    <tr>\n",
              "      <th>4</th>\n",
              "      <td>4.148932</td>\n",
              "      <td>29.928311</td>\n",
              "      <td>36.451892</td>\n",
              "    </tr>\n",
              "    <tr>\n",
              "      <th>5</th>\n",
              "      <td>4.971622</td>\n",
              "      <td>30.157684</td>\n",
              "      <td>37.754739</td>\n",
              "    </tr>\n",
              "    <tr>\n",
              "      <th>6</th>\n",
              "      <td>1.455218</td>\n",
              "      <td>29.722659</td>\n",
              "      <td>32.349624</td>\n",
              "    </tr>\n",
              "    <tr>\n",
              "      <th>7</th>\n",
              "      <td>7.889897</td>\n",
              "      <td>23.005638</td>\n",
              "      <td>39.986537</td>\n",
              "    </tr>\n",
              "    <tr>\n",
              "      <th>8</th>\n",
              "      <td>5.721178</td>\n",
              "      <td>24.887612</td>\n",
              "      <td>37.298050</td>\n",
              "    </tr>\n",
              "    <tr>\n",
              "      <th>9</th>\n",
              "      <td>8.836367</td>\n",
              "      <td>26.689339</td>\n",
              "      <td>42.511352</td>\n",
              "    </tr>\n",
              "  </tbody>\n",
              "</table>\n",
              "</div>\n",
              "      <button class=\"colab-df-convert\" onclick=\"convertToInteractive('df-8e887c06-fe54-41e5-8109-893b522678a2')\"\n",
              "              title=\"Convert this dataframe to an interactive table.\"\n",
              "              style=\"display:none;\">\n",
              "        \n",
              "  <svg xmlns=\"http://www.w3.org/2000/svg\" height=\"24px\"viewBox=\"0 0 24 24\"\n",
              "       width=\"24px\">\n",
              "    <path d=\"M0 0h24v24H0V0z\" fill=\"none\"/>\n",
              "    <path d=\"M18.56 5.44l.94 2.06.94-2.06 2.06-.94-2.06-.94-.94-2.06-.94 2.06-2.06.94zm-11 1L8.5 8.5l.94-2.06 2.06-.94-2.06-.94L8.5 2.5l-.94 2.06-2.06.94zm10 10l.94 2.06.94-2.06 2.06-.94-2.06-.94-.94-2.06-.94 2.06-2.06.94z\"/><path d=\"M17.41 7.96l-1.37-1.37c-.4-.4-.92-.59-1.43-.59-.52 0-1.04.2-1.43.59L10.3 9.45l-7.72 7.72c-.78.78-.78 2.05 0 2.83L4 21.41c.39.39.9.59 1.41.59.51 0 1.02-.2 1.41-.59l7.78-7.78 2.81-2.81c.8-.78.8-2.07 0-2.86zM5.41 20L4 18.59l7.72-7.72 1.47 1.35L5.41 20z\"/>\n",
              "  </svg>\n",
              "      </button>\n",
              "      \n",
              "  <style>\n",
              "    .colab-df-container {\n",
              "      display:flex;\n",
              "      flex-wrap:wrap;\n",
              "      gap: 12px;\n",
              "    }\n",
              "\n",
              "    .colab-df-convert {\n",
              "      background-color: #E8F0FE;\n",
              "      border: none;\n",
              "      border-radius: 50%;\n",
              "      cursor: pointer;\n",
              "      display: none;\n",
              "      fill: #1967D2;\n",
              "      height: 32px;\n",
              "      padding: 0 0 0 0;\n",
              "      width: 32px;\n",
              "    }\n",
              "\n",
              "    .colab-df-convert:hover {\n",
              "      background-color: #E2EBFA;\n",
              "      box-shadow: 0px 1px 2px rgba(60, 64, 67, 0.3), 0px 1px 3px 1px rgba(60, 64, 67, 0.15);\n",
              "      fill: #174EA6;\n",
              "    }\n",
              "\n",
              "    [theme=dark] .colab-df-convert {\n",
              "      background-color: #3B4455;\n",
              "      fill: #D2E3FC;\n",
              "    }\n",
              "\n",
              "    [theme=dark] .colab-df-convert:hover {\n",
              "      background-color: #434B5C;\n",
              "      box-shadow: 0px 1px 3px 1px rgba(0, 0, 0, 0.15);\n",
              "      filter: drop-shadow(0px 1px 2px rgba(0, 0, 0, 0.3));\n",
              "      fill: #FFFFFF;\n",
              "    }\n",
              "  </style>\n",
              "\n",
              "      <script>\n",
              "        const buttonEl =\n",
              "          document.querySelector('#df-8e887c06-fe54-41e5-8109-893b522678a2 button.colab-df-convert');\n",
              "        buttonEl.style.display =\n",
              "          google.colab.kernel.accessAllowed ? 'block' : 'none';\n",
              "\n",
              "        async function convertToInteractive(key) {\n",
              "          const element = document.querySelector('#df-8e887c06-fe54-41e5-8109-893b522678a2');\n",
              "          const dataTable =\n",
              "            await google.colab.kernel.invokeFunction('convertToInteractive',\n",
              "                                                     [key], {});\n",
              "          if (!dataTable) return;\n",
              "\n",
              "          const docLinkHtml = 'Like what you see? Visit the ' +\n",
              "            '<a target=\"_blank\" href=https://colab.research.google.com/notebooks/data_table.ipynb>data table notebook</a>'\n",
              "            + ' to learn more about interactive tables.';\n",
              "          element.innerHTML = '';\n",
              "          dataTable['output_type'] = 'display_data';\n",
              "          await google.colab.output.renderOutput(dataTable, element);\n",
              "          const docLink = document.createElement('div');\n",
              "          docLink.innerHTML = docLinkHtml;\n",
              "          element.appendChild(docLink);\n",
              "        }\n",
              "      </script>\n",
              "    </div>\n",
              "  </div>\n",
              "  "
            ]
          },
          "metadata": {},
          "execution_count": 5
        }
      ]
    },
    {
      "cell_type": "code",
      "source": [
        "fig = plt.figure(figsize=(8,8))\n",
        "ax = fig.add_subplot(projection='3d')\n",
        "ax.scatter(X1,X2,y)\n",
        "ax.set_xlabel('Years of Experience')\n",
        "ax.set_ylabel('Age')\n",
        "ax.set_zlabel('Salary')\n",
        "ax.view_init(10,-60)\n",
        "ax.set_title('3D Representation of Linear Regression')\n",
        "# # Draw plane\n",
        "xx, yy = np.meshgrid(np.linspace(0,30), np.linspace(0,60))\n",
        "zz = (weight1 * xx + bias1) + (weight2 * yy + bias2)\n",
        "ax.plot_surface(xx ,yy ,zz ,alpha=0.5)"
      ],
      "metadata": {
        "colab": {
          "base_uri": "https://localhost:8080/",
          "height": 499
        },
        "id": "xySaVh5qC2j4",
        "outputId": "7a63ea98-7e7e-468d-9a0e-2e436682be3e"
      },
      "execution_count": null,
      "outputs": [
        {
          "output_type": "execute_result",
          "data": {
            "text/plain": [
              "<mpl_toolkits.mplot3d.art3d.Poly3DCollection at 0x7fcca9479eb0>"
            ]
          },
          "metadata": {},
          "execution_count": 6
        },
        {
          "output_type": "display_data",
          "data": {
            "text/plain": [
              "<Figure size 576x576 with 1 Axes>"
            ],
            "image/png": "[encoded data removed]"
          },
          "metadata": {
            "needs_background": "light"
          }
        }
      ]
    },
    {
      "cell_type": "markdown",
      "source": [
        "## 2. Binary Classification\n",
        "Binary Classification consists into classify if multiple input features belongs a to class or another one.\n",
        "\n",
        "The output of this type of model is binary only 0 or 1. \n",
        "\n",
        "Eg. Dog vs Cat, Spam vs Not Spam, etc"
      ],
      "metadata": {
        "id": "hyZF8JU0TFHA"
      }
    },
    {
      "cell_type": "code",
      "source": [
        "np.random.seed(40)\n",
        "\n",
        "X1 = np.arange(start=4, stop=6, step=0.05) + np.random.randn(40)\n",
        "X1 = np.expand_dims(X1[::-1],axis=1)\n",
        "X2 = np.expand_dims(np.arange(start=150, stop=310, step=4) + np.random.randn(40) * 5 ,axis=1)\n",
        "length = int(len(X1)/2)\n",
        "Y = np.expand_dims(np.concatenate([np.ones(length), np.zeros(length)]),axis=1)\n",
        "\n",
        "data = np.hstack([X1,X2,Y])\n",
        "\n",
        "# Reproducible random\n",
        "np.random.seed(43)\n",
        "\n",
        "# Move data randomly\n",
        "np.random.shuffle(data)\n",
        "\n",
        "X1 = data[:,0]\n",
        "X2 = data[:,1]\n",
        "Y = data[:,2]\n",
        "\n",
        "bin_class_df = pd.DataFrame({'Height': X1,\n",
        "                             'Weight': X2,\n",
        "                             'At risk?': Y})\n",
        "bin_class_df.head(10)"
      ],
      "metadata": {
        "colab": {
          "base_uri": "https://localhost:8080/",
          "height": 363
        },
        "id": "yGZyIdpST5in",
        "outputId": "c957bf1f-aeaf-4865-a9f1-768871e63648"
      },
      "execution_count": null,
      "outputs": [
        {
          "output_type": "execute_result",
          "data": {
            "text/plain": [
              "     Height      Weight  At risk?\n",
              "0  5.293494  223.366989       1.0\n",
              "1  6.850679  196.460424       1.0\n",
              "2  4.616307  254.438936       0.0\n",
              "3  5.110267  275.017609       0.0\n",
              "4  4.753830  181.205514       1.0\n",
              "5  5.216571  174.044947       1.0\n",
              "6  2.355599  290.862745       0.0\n",
              "7  5.527712  189.481388       1.0\n",
              "8  3.675016  232.714408       0.0\n",
              "9  3.415394  297.642650       0.0"
            ],
            "text/html": [
              "\n",
              "  <div id=\"df-bb7fdc47-5eb2-4a60-ae7e-d0864f148a64\">\n",
              "    <div class=\"colab-df-container\">\n",
              "      <div>\n",
              "<style scoped>\n",
              "    .dataframe tbody tr th:only-of-type {\n",
              "        vertical-align: middle;\n",
              "    }\n",
              "\n",
              "    .dataframe tbody tr th {\n",
              "        vertical-align: top;\n",
              "    }\n",
              "\n",
              "    .dataframe thead th {\n",
              "        text-align: right;\n",
              "    }\n",
              "</style>\n",
              "<table border=\"1\" class=\"dataframe\">\n",
              "  <thead>\n",
              "    <tr style=\"text-align: right;\">\n",
              "      <th></th>\n",
              "      <th>Height</th>\n",
              "      <th>Weight</th>\n",
              "      <th>At risk?</th>\n",
              "    </tr>\n",
              "  </thead>\n",
              "  <tbody>\n",
              "    <tr>\n",
              "      <th>0</th>\n",
              "      <td>5.293494</td>\n",
              "      <td>223.366989</td>\n",
              "      <td>1.0</td>\n",
              "    </tr>\n",
              "    <tr>\n",
              "      <th>1</th>\n",
              "      <td>6.850679</td>\n",
              "      <td>196.460424</td>\n",
              "      <td>1.0</td>\n",
              "    </tr>\n",
              "    <tr>\n",
              "      <th>2</th>\n",
              "      <td>4.616307</td>\n",
              "      <td>254.438936</td>\n",
              "      <td>0.0</td>\n",
              "    </tr>\n",
              "    <tr>\n",
              "      <th>3</th>\n",
              "      <td>5.110267</td>\n",
              "      <td>275.017609</td>\n",
              "      <td>0.0</td>\n",
              "    </tr>\n",
              "    <tr>\n",
              "      <th>4</th>\n",
              "      <td>4.753830</td>\n",
              "      <td>181.205514</td>\n",
              "      <td>1.0</td>\n",
              "    </tr>\n",
              "    <tr>\n",
              "      <th>5</th>\n",
              "      <td>5.216571</td>\n",
              "      <td>174.044947</td>\n",
              "      <td>1.0</td>\n",
              "    </tr>\n",
              "    <tr>\n",
              "      <th>6</th>\n",
              "      <td>2.355599</td>\n",
              "      <td>290.862745</td>\n",
              "      <td>0.0</td>\n",
              "    </tr>\n",
              "    <tr>\n",
              "      <th>7</th>\n",
              "      <td>5.527712</td>\n",
              "      <td>189.481388</td>\n",
              "      <td>1.0</td>\n",
              "    </tr>\n",
              "    <tr>\n",
              "      <th>8</th>\n",
              "      <td>3.675016</td>\n",
              "      <td>232.714408</td>\n",
              "      <td>0.0</td>\n",
              "    </tr>\n",
              "    <tr>\n",
              "      <th>9</th>\n",
              "      <td>3.415394</td>\n",
              "      <td>297.642650</td>\n",
              "      <td>0.0</td>\n",
              "    </tr>\n",
              "  </tbody>\n",
              "</table>\n",
              "</div>\n",
              "      <button class=\"colab-df-convert\" onclick=\"convertToInteractive('df-bb7fdc47-5eb2-4a60-ae7e-d0864f148a64')\"\n",
              "              title=\"Convert this dataframe to an interactive table.\"\n",
              "              style=\"display:none;\">\n",
              "        \n",
              "  <svg xmlns=\"http://www.w3.org/2000/svg\" height=\"24px\"viewBox=\"0 0 24 24\"\n",
              "       width=\"24px\">\n",
              "    <path d=\"M0 0h24v24H0V0z\" fill=\"none\"/>\n",
              "    <path d=\"M18.56 5.44l.94 2.06.94-2.06 2.06-.94-2.06-.94-.94-2.06-.94 2.06-2.06.94zm-11 1L8.5 8.5l.94-2.06 2.06-.94-2.06-.94L8.5 2.5l-.94 2.06-2.06.94zm10 10l.94 2.06.94-2.06 2.06-.94-2.06-.94-.94-2.06-.94 2.06-2.06.94z\"/><path d=\"M17.41 7.96l-1.37-1.37c-.4-.4-.92-.59-1.43-.59-.52 0-1.04.2-1.43.59L10.3 9.45l-7.72 7.72c-.78.78-.78 2.05 0 2.83L4 21.41c.39.39.9.59 1.41.59.51 0 1.02-.2 1.41-.59l7.78-7.78 2.81-2.81c.8-.78.8-2.07 0-2.86zM5.41 20L4 18.59l7.72-7.72 1.47 1.35L5.41 20z\"/>\n",
              "  </svg>\n",
              "      </button>\n",
              "      \n",
              "  <style>\n",
              "    .colab-df-container {\n",
              "      display:flex;\n",
              "      flex-wrap:wrap;\n",
              "      gap: 12px;\n",
              "    }\n",
              "\n",
              "    .colab-df-convert {\n",
              "      background-color: #E8F0FE;\n",
              "      border: none;\n",
              "      border-radius: 50%;\n",
              "      cursor: pointer;\n",
              "      display: none;\n",
              "      fill: #1967D2;\n",
              "      height: 32px;\n",
              "      padding: 0 0 0 0;\n",
              "      width: 32px;\n",
              "    }\n",
              "\n",
              "    .colab-df-convert:hover {\n",
              "      background-color: #E2EBFA;\n",
              "      box-shadow: 0px 1px 2px rgba(60, 64, 67, 0.3), 0px 1px 3px 1px rgba(60, 64, 67, 0.15);\n",
              "      fill: #174EA6;\n",
              "    }\n",
              "\n",
              "    [theme=dark] .colab-df-convert {\n",
              "      background-color: #3B4455;\n",
              "      fill: #D2E3FC;\n",
              "    }\n",
              "\n",
              "    [theme=dark] .colab-df-convert:hover {\n",
              "      background-color: #434B5C;\n",
              "      box-shadow: 0px 1px 3px 1px rgba(0, 0, 0, 0.15);\n",
              "      filter: drop-shadow(0px 1px 2px rgba(0, 0, 0, 0.3));\n",
              "      fill: #FFFFFF;\n",
              "    }\n",
              "  </style>\n",
              "\n",
              "      <script>\n",
              "        const buttonEl =\n",
              "          document.querySelector('#df-bb7fdc47-5eb2-4a60-ae7e-d0864f148a64 button.colab-df-convert');\n",
              "        buttonEl.style.display =\n",
              "          google.colab.kernel.accessAllowed ? 'block' : 'none';\n",
              "\n",
              "        async function convertToInteractive(key) {\n",
              "          const element = document.querySelector('#df-bb7fdc47-5eb2-4a60-ae7e-d0864f148a64');\n",
              "          const dataTable =\n",
              "            await google.colab.kernel.invokeFunction('convertToInteractive',\n",
              "                                                     [key], {});\n",
              "          if (!dataTable) return;\n",
              "\n",
              "          const docLinkHtml = 'Like what you see? Visit the ' +\n",
              "            '<a target=\"_blank\" href=https://colab.research.google.com/notebooks/data_table.ipynb>data table notebook</a>'\n",
              "            + ' to learn more about interactive tables.';\n",
              "          element.innerHTML = '';\n",
              "          dataTable['output_type'] = 'display_data';\n",
              "          await google.colab.output.renderOutput(dataTable, element);\n",
              "          const docLink = document.createElement('div');\n",
              "          docLink.innerHTML = docLinkHtml;\n",
              "          element.appendChild(docLink);\n",
              "        }\n",
              "      </script>\n",
              "    </div>\n",
              "  </div>\n",
              "  "
            ]
          },
          "metadata": {},
          "execution_count": 23
        }
      ]
    },
    {
      "cell_type": "markdown",
      "source": [
        "We use a line to separate and classify the data"
      ],
      "metadata": {
        "id": "0v9Tv1I9Aw4j"
      }
    },
    {
      "cell_type": "code",
      "source": [
        "plt.scatter(X1, X2, c=Y, s=24, cmap=plt.cm.RdYlBu)\n",
        "plt.title('Binary classification')\n",
        "plt.xlabel('Height')\n",
        "plt.ylabel('Height')\n",
        "X_line = np.arange(3, 8, 0.05)\n",
        "Y_line = X_line * 20 + 132\n",
        "plt.plot(X_line, Y_line)"
      ],
      "metadata": {
        "colab": {
          "base_uri": "https://localhost:8080/",
          "height": 312
        },
        "id": "CZtm3OleZGhp",
        "outputId": "49709ea0-426e-448e-baa2-2f156ca82d05"
      },
      "execution_count": null,
      "outputs": [
        {
          "output_type": "execute_result",
          "data": {
            "text/plain": [
              "[<matplotlib.lines.Line2D at 0x7fcca6417760>]"
            ]
          },
          "metadata": {},
          "execution_count": 39
        },
        {
          "output_type": "display_data",
          "data": {
            "text/plain": [
              "<Figure size 432x288 with 1 Axes>"
            ],
            "image/png": "[encoded data removed]"
          },
          "metadata": {
            "needs_background": "light"
          }
        }
      ]
    },
    {
      "cell_type": "markdown",
      "source": [
        "## Importan Rule: All data is the same\n",
        "This rule says that the data can change, but the task remains the same.\n",
        "The task is:\n",
        "- Collect bunch of data\n",
        "- Draw data points\n",
        "- Draw a line to split data"
      ],
      "metadata": {
        "id": "QHnPyoh9_ppb"
      }
    },
    {
      "cell_type": "markdown",
      "source": [
        "## Sumary:\n",
        "+ All data is the same\n",
        "+ Take the magic away of Machine Learning\n",
        "+ Machine Learning can be interpreted as a geometrical problem\n",
        "+ Linear regression predicts data points through a line that fits data\n",
        "+ Classification separate data points through a line"
      ],
      "metadata": {
        "id": "SCK7qSiQJDWt"
      }
    },
    {
      "cell_type": "markdown",
      "source": [
        "# Linear classification\n",
        "**Q:** How we can use a line to classify data?\n",
        "\n",
        "**A:** That's a good question, we ca\n",
        "\n",
        "\n",
        "Steps to create our model:\n",
        "1. Load data (X,Y)\n",
        "2. Instantiate the model\n",
        "3. Train the model `tf.fit()`\n",
        "4. Evaluate our model"
      ],
      "metadata": {
        "id": "P3h8DtkpJa9t"
      }
    },
    {
      "cell_type": "code",
      "source": [],
      "metadata": {
        "id": "zK5h-9VlJuT-"
      },
      "execution_count": null,
      "outputs": []
    }
  ]
}